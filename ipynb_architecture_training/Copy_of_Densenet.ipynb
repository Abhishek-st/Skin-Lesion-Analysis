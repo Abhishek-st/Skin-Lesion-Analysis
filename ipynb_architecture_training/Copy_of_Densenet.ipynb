{
  "nbformat": 4,
  "nbformat_minor": 0,
  "metadata": {
    "colab": {
      "name": "Copy of Densenet.ipynb",
      "provenance": [],
      "collapsed_sections": []
    },
    "kernelspec": {
      "name": "python3",
      "display_name": "Python 3"
    },
    "accelerator": "GPU"
  },
  "cells": [
    {
      "cell_type": "code",
      "metadata": {
        "id": "5Lm94myalKjQ"
      },
      "source": [
        "from tensorflow.keras.preprocessing.image import ImageDataGenerator"
      ],
      "execution_count": null,
      "outputs": []
    },
    {
      "cell_type": "code",
      "metadata": {
        "id": "pNLV_MhFlqJo",
        "outputId": "e55d9018-74e3-4369-ee02-a471733bb809",
        "colab": {
          "base_uri": "https://localhost:8080/",
          "height": 52
        }
      },
      "source": [
        "train_datagen = ImageDataGenerator(\n",
        "      rescale=1./255,\n",
        "      rotation_range=20,\n",
        "      width_shift_range=0.2,\n",
        "      height_shift_range=0.2,\n",
        "      horizontal_flip=True,\n",
        "      fill_mode='nearest'\n",
        ")\n",
        " \n",
        "validation_datagen = ImageDataGenerator(rescale=1./255)\n",
        " \n",
        "# Change the batchsize according to your system RAM\n",
        "train_batchsize = 16\n",
        "val_batchsize = 10\n",
        " \n",
        "train_generator = train_datagen.flow_from_directory(\n",
        "        '/content/drive/My Drive/Research_Paper/SKIN_DISEASE_DATASET/train',\n",
        "        target_size=(224,224),\n",
        "        batch_size=train_batchsize,\n",
        "        class_mode='categorical')\n",
        " \n",
        "validation_generator = validation_datagen.flow_from_directory(\n",
        "        '/content/drive/My Drive/Research_Paper/SKIN_DISEASE_DATASET/test',\n",
        "        target_size=(224,224),\n",
        "        batch_size=val_batchsize,\n",
        "        class_mode='categorical',\n",
        "        shuffle=True)"
      ],
      "execution_count": null,
      "outputs": [
        {
          "output_type": "stream",
          "text": [
            "Found 672 images belonging to 6 classes.\n",
            "Found 108 images belonging to 6 classes.\n"
          ],
          "name": "stdout"
        }
      ]
    },
    {
      "cell_type": "code",
      "metadata": {
        "id": "vVG_ONlSXFti",
        "outputId": "c72d3f9f-cc4b-4d58-d963-1c3894633ae7",
        "colab": {
          "base_uri": "https://localhost:8080/",
          "height": 121
        }
      },
      "source": [
        "from google.colab import drive\n",
        "drive.mount('/content/drive')"
      ],
      "execution_count": null,
      "outputs": [
        {
          "output_type": "stream",
          "text": [
            "Go to this URL in a browser: https://accounts.google.com/o/oauth2/auth?client_id=947318989803-6bn6qk8qdgf4n4g3pfee6491hc0brc4i.apps.googleusercontent.com&redirect_uri=urn%3aietf%3awg%3aoauth%3a2.0%3aoob&response_type=code&scope=email%20https%3a%2f%2fwww.googleapis.com%2fauth%2fdocs.test%20https%3a%2f%2fwww.googleapis.com%2fauth%2fdrive%20https%3a%2f%2fwww.googleapis.com%2fauth%2fdrive.photos.readonly%20https%3a%2f%2fwww.googleapis.com%2fauth%2fpeopleapi.readonly\n",
            "\n",
            "Enter your authorization code:\n",
            "··········\n",
            "Mounted at /content/drive\n"
          ],
          "name": "stdout"
        }
      ]
    },
    {
      "cell_type": "code",
      "metadata": {
        "id": "DHl-S0-qD3OE",
        "outputId": "e4c2c87c-0f74-458d-cdb4-e34da1c1424c",
        "colab": {
          "base_uri": "https://localhost:8080/",
          "height": 70
        }
      },
      "source": [
        "#from tensorflow.keras.applications.xception import Xception      \n",
        "# from tensorflow.keras.applications.inception_resnet_v2 import InceptionResNetV2\n",
        "# from tensorflow.keras.applications.nasnet import NASNetMobile\n",
        "from tensorflow.keras.applications.densenet import DenseNet201\n",
        "xcep = DenseNet201(weights='imagenet', include_top=False, input_shape=(224,224, 3)) "
      ],
      "execution_count": null,
      "outputs": [
        {
          "output_type": "stream",
          "text": [
            "Downloading data from https://storage.googleapis.com/tensorflow/keras-applications/densenet/densenet201_weights_tf_dim_ordering_tf_kernels_notop.h5\n",
            "74842112/74836368 [==============================] - 1s 0us/step\n"
          ],
          "name": "stdout"
        }
      ]
    },
    {
      "cell_type": "code",
      "metadata": {
        "id": "eYZlLQ2zSc2Q",
        "outputId": "8ce4a364-b804-4a9c-9d05-9d9da2bc6b45",
        "colab": {
          "base_uri": "https://localhost:8080/",
          "height": 475
        }
      },
      "source": [
        "from tensorflow.keras import models\n",
        "from tensorflow.keras import layers\n",
        "from tensorflow.keras import optimizers\n",
        " \n",
        "# Create the model\n",
        "model1 = models.Sequential()\n",
        " \n",
        "model1.add(xcep)\n",
        "# Add new layers\n",
        "model1.add(layers.Flatten())\n",
        "model1.add(layers.Dense(1024, activation='relu'))\n",
        "model1.add(layers.BatchNormalization())\n",
        "model1.add(layers.Dropout(0.5))\n",
        "\n",
        "model1.add(layers.Dense(512, activation='relu'))\n",
        "model1.add(layers.BatchNormalization())\n",
        "model1.add(layers.Dropout(0.5))\n",
        "\n",
        "model1.add(layers.Dense(6, activation='softmax'))\n",
        "model1.summary()"
      ],
      "execution_count": null,
      "outputs": [
        {
          "output_type": "stream",
          "text": [
            "Model: \"sequential\"\n",
            "_________________________________________________________________\n",
            "Layer (type)                 Output Shape              Param #   \n",
            "=================================================================\n",
            "densenet201 (Model)          (None, 7, 7, 1920)        18321984  \n",
            "_________________________________________________________________\n",
            "flatten (Flatten)            (None, 94080)             0         \n",
            "_________________________________________________________________\n",
            "dense (Dense)                (None, 1024)              96338944  \n",
            "_________________________________________________________________\n",
            "batch_normalization (BatchNo (None, 1024)              4096      \n",
            "_________________________________________________________________\n",
            "dropout (Dropout)            (None, 1024)              0         \n",
            "_________________________________________________________________\n",
            "dense_1 (Dense)              (None, 512)               524800    \n",
            "_________________________________________________________________\n",
            "batch_normalization_1 (Batch (None, 512)               2048      \n",
            "_________________________________________________________________\n",
            "dropout_1 (Dropout)          (None, 512)               0         \n",
            "_________________________________________________________________\n",
            "dense_2 (Dense)              (None, 6)                 3078      \n",
            "=================================================================\n",
            "Total params: 115,194,950\n",
            "Trainable params: 114,962,822\n",
            "Non-trainable params: 232,128\n",
            "_________________________________________________________________\n"
          ],
          "name": "stdout"
        }
      ]
    },
    {
      "cell_type": "code",
      "metadata": {
        "id": "dD0yg3VPSkhX",
        "outputId": "94b858b0-c61e-44bf-82f9-9686402a389c",
        "colab": {
          "base_uri": "https://localhost:8080/",
          "height": 1000
        }
      },
      "source": [
        "# NasNetMobile model   \n",
        "model1.compile(loss='categorical_crossentropy',\n",
        "              optimizer=optimizers.RMSprop(lr=1e-5),\n",
        "              metrics=['acc'])\n",
        "# Train the model\n",
        "history = model1.fit_generator(\n",
        "      train_generator,\n",
        "      steps_per_epoch=train_generator.samples/train_generator.batch_size ,\n",
        "      epochs=30,\n",
        "      validation_data=validation_generator,\n",
        "      validation_steps=validation_generator.samples/validation_generator.batch_size,\n",
        "      verbose=1)"
      ],
      "execution_count": null,
      "outputs": [
        {
          "output_type": "stream",
          "text": [
            "WARNING:tensorflow:From <ipython-input-6-7d1bad62f623>:11: Model.fit_generator (from tensorflow.python.keras.engine.training) is deprecated and will be removed in a future version.\n",
            "Instructions for updating:\n",
            "Please use Model.fit, which supports generators.\n",
            "Epoch 1/30\n",
            "42/42 [==============================] - 365s 9s/step - loss: 2.5626 - acc: 0.2812 - val_loss: 1.6192 - val_acc: 0.3519\n",
            "Epoch 2/30\n",
            "42/42 [==============================] - 26s 616ms/step - loss: 1.6951 - acc: 0.4494 - val_loss: 1.2575 - val_acc: 0.5833\n",
            "Epoch 3/30\n",
            "42/42 [==============================] - 26s 609ms/step - loss: 1.4190 - acc: 0.5432 - val_loss: 1.0758 - val_acc: 0.6759\n",
            "Epoch 4/30\n",
            "42/42 [==============================] - 26s 609ms/step - loss: 1.2054 - acc: 0.6205 - val_loss: 1.0061 - val_acc: 0.6759\n",
            "Epoch 5/30\n",
            "42/42 [==============================] - 25s 604ms/step - loss: 1.0018 - acc: 0.6801 - val_loss: 0.7711 - val_acc: 0.7037\n",
            "Epoch 6/30\n",
            "42/42 [==============================] - 26s 615ms/step - loss: 0.8151 - acc: 0.7098 - val_loss: 0.7518 - val_acc: 0.6944\n",
            "Epoch 7/30\n",
            "42/42 [==============================] - 26s 612ms/step - loss: 0.7878 - acc: 0.7351 - val_loss: 0.8064 - val_acc: 0.6481\n",
            "Epoch 8/30\n",
            "42/42 [==============================] - 26s 609ms/step - loss: 0.7110 - acc: 0.7827 - val_loss: 0.5685 - val_acc: 0.7778\n",
            "Epoch 9/30\n",
            "42/42 [==============================] - 25s 603ms/step - loss: 0.6098 - acc: 0.7976 - val_loss: 0.5187 - val_acc: 0.8241\n",
            "Epoch 10/30\n",
            "42/42 [==============================] - 26s 617ms/step - loss: 0.6143 - acc: 0.7932 - val_loss: 0.4916 - val_acc: 0.7593\n",
            "Epoch 11/30\n",
            "42/42 [==============================] - 25s 604ms/step - loss: 0.6461 - acc: 0.7812 - val_loss: 0.3817 - val_acc: 0.7963\n",
            "Epoch 12/30\n",
            "42/42 [==============================] - 25s 607ms/step - loss: 0.5277 - acc: 0.8155 - val_loss: 0.4020 - val_acc: 0.8333\n",
            "Epoch 13/30\n",
            "42/42 [==============================] - 26s 608ms/step - loss: 0.4794 - acc: 0.8304 - val_loss: 0.4797 - val_acc: 0.7963\n",
            "Epoch 14/30\n",
            "42/42 [==============================] - 26s 610ms/step - loss: 0.4407 - acc: 0.8408 - val_loss: 0.4149 - val_acc: 0.8148\n",
            "Epoch 15/30\n",
            "42/42 [==============================] - 26s 611ms/step - loss: 0.4175 - acc: 0.8452 - val_loss: 0.2634 - val_acc: 0.9167\n",
            "Epoch 16/30\n",
            "42/42 [==============================] - 26s 609ms/step - loss: 0.3577 - acc: 0.8839 - val_loss: 0.4286 - val_acc: 0.8148\n",
            "Epoch 17/30\n",
            "42/42 [==============================] - 26s 607ms/step - loss: 0.4414 - acc: 0.8527 - val_loss: 0.3221 - val_acc: 0.8796\n",
            "Epoch 18/30\n",
            "42/42 [==============================] - 26s 613ms/step - loss: 0.3199 - acc: 0.8973 - val_loss: 0.4302 - val_acc: 0.8796\n",
            "Epoch 19/30\n",
            "42/42 [==============================] - 26s 610ms/step - loss: 0.2995 - acc: 0.9003 - val_loss: 0.3118 - val_acc: 0.8519\n",
            "Epoch 20/30\n",
            "42/42 [==============================] - 26s 614ms/step - loss: 0.3365 - acc: 0.8929 - val_loss: 0.4574 - val_acc: 0.8056\n",
            "Epoch 21/30\n",
            "42/42 [==============================] - 26s 609ms/step - loss: 0.3241 - acc: 0.8884 - val_loss: 0.3606 - val_acc: 0.8704\n",
            "Epoch 22/30\n",
            "42/42 [==============================] - 26s 611ms/step - loss: 0.2803 - acc: 0.9033 - val_loss: 0.3673 - val_acc: 0.8611\n",
            "Epoch 23/30\n",
            "42/42 [==============================] - 26s 614ms/step - loss: 0.2774 - acc: 0.9092 - val_loss: 0.3090 - val_acc: 0.8704\n",
            "Epoch 24/30\n",
            "42/42 [==============================] - 26s 608ms/step - loss: 0.2482 - acc: 0.9137 - val_loss: 0.4140 - val_acc: 0.8704\n",
            "Epoch 25/30\n",
            "42/42 [==============================] - 26s 612ms/step - loss: 0.2498 - acc: 0.9152 - val_loss: 0.4653 - val_acc: 0.8426\n",
            "Epoch 26/30\n",
            "42/42 [==============================] - 26s 617ms/step - loss: 0.2147 - acc: 0.9241 - val_loss: 0.5309 - val_acc: 0.8426\n",
            "Epoch 27/30\n",
            "42/42 [==============================] - 26s 610ms/step - loss: 0.2237 - acc: 0.9330 - val_loss: 0.2070 - val_acc: 0.9352\n",
            "Epoch 28/30\n",
            "42/42 [==============================] - 26s 615ms/step - loss: 0.2034 - acc: 0.9301 - val_loss: 0.5363 - val_acc: 0.8426\n",
            "Epoch 29/30\n",
            "42/42 [==============================] - 26s 614ms/step - loss: 0.1923 - acc: 0.9345 - val_loss: 0.3287 - val_acc: 0.8981\n",
            "Epoch 30/30\n",
            "42/42 [==============================] - 26s 609ms/step - loss: 0.1788 - acc: 0.9464 - val_loss: 0.3516 - val_acc: 0.8981\n"
          ],
          "name": "stdout"
        }
      ]
    },
    {
      "cell_type": "code",
      "metadata": {
        "id": "h_oSLy5nHu0M",
        "outputId": "1969dbfb-f2eb-4b3b-8441-cd63d91f0f8e",
        "colab": {
          "base_uri": "https://localhost:8080/",
          "height": 87
        }
      },
      "source": [
        "from sklearn import metrics\n",
        "import numpy as np\n",
        "\n",
        "Y_pred = model1.predict_generator(validation_generator, validation_generator.samples/validation_generator.batch_size)\n",
        "y_pred = np.argmax(Y_pred, axis=1)\n",
        "cm = metrics.confusion_matrix(validation_generator.classes, y_pred)"
      ],
      "execution_count": null,
      "outputs": [
        {
          "output_type": "stream",
          "text": [
            "WARNING:tensorflow:From <ipython-input-7-eebdd9c42a48>:4: Model.predict_generator (from tensorflow.python.keras.engine.training) is deprecated and will be removed in a future version.\n",
            "Instructions for updating:\n",
            "Please use Model.predict, which supports generators.\n"
          ],
          "name": "stdout"
        }
      ]
    },
    {
      "cell_type": "code",
      "metadata": {
        "id": "sD1mh21DH477",
        "outputId": "75714170-4328-4d23-fa67-5b805e9dc0ab",
        "colab": {
          "base_uri": "https://localhost:8080/",
          "height": 278
        }
      },
      "source": [
        "import matplotlib.pyplot as plt\n",
        "\n",
        "plt.imshow(cm, cmap=plt.cm.Blues)\n",
        "plt.xlabel(\"Predicted labels\")\n",
        "plt.ylabel(\"True labels\")\n",
        "plt.xticks([], [])\n",
        "plt.yticks([], [])\n",
        "plt.title('Confusion matrix ')\n",
        "plt.colorbar()\n",
        "plt.show()"
      ],
      "execution_count": null,
      "outputs": [
        {
          "output_type": "display_data",
          "data": {
            "image/png": "[encoded data removed]",
            "text/plain": [
              "<Figure size 432x288 with 2 Axes>"
            ]
          },
          "metadata": {
            "tags": [],
            "needs_background": "light"
          }
        }
      ]
    },
    {
      "cell_type": "code",
      "metadata": {
        "id": "HJFZ33-ftUxx",
        "outputId": "4eb28f79-7849-430f-e1f8-e0ccf11195d3",
        "colab": {
          "base_uri": "https://localhost:8080/",
          "height": 573
        }
      },
      "source": [
        "import matplotlib.pyplot as plt\n",
        "\n",
        "# training and accuracy value\n",
        "plt.plot(history.history['acc'])\n",
        "plt.plot(history.history['val_acc'])\n",
        "plt.title('Model accuracy')\n",
        "plt.xlabel('Epoch')\n",
        "plt.ylabel('Accuracy')\n",
        "plt.legend(['train','val'],loc='upper left')\n",
        "plt.show()\n",
        "\n",
        "# training and loss value\n",
        "plt.plot(history.history['loss'])\n",
        "plt.plot(history.history['val_loss'])\n",
        "plt.title('Model loss')\n",
        "plt.xlabel('Epoch')\n",
        "plt.ylabel('loss')\n",
        "plt.legend(['train','val'],loc='upper left')\n",
        "plt.show()"
      ],
      "execution_count": null,
      "outputs": [
        {
          "output_type": "display_data",
          "data": {
            "image/png": "[encoded data removed]",
            "text/plain": [
              "<Figure size 432x288 with 1 Axes>"
            ]
          },
          "metadata": {
            "tags": [],
            "needs_background": "light"
          }
        },
        {
          "output_type": "display_data",
          "data": {
            "image/png": "[encoded data removed]",
            "text/plain": [
              "<Figure size 432x288 with 1 Axes>"
            ]
          },
          "metadata": {
            "tags": [],
            "needs_background": "light"
          }
        }
      ]
    },
    {
      "cell_type": "code",
      "metadata": {
        "id": "W9vdNh0pXggP"
      },
      "source": [
        "model.save('ret_scan.h5')"
      ],
      "execution_count": null,
      "outputs": []
    },
    {
      "cell_type": "code",
      "metadata": {
        "id": "EYopLXDaXjO6"
      },
      "source": [
        ""
      ],
      "execution_count": null,
      "outputs": []
    }
  ]
}