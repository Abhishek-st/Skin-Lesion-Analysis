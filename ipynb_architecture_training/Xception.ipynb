{
  "nbformat": 4,
  "nbformat_minor": 0,
  "metadata": {
    "colab": {
      "name": "Xception.ipynb",
      "provenance": []
    },
    "kernelspec": {
      "name": "python3",
      "display_name": "Python 3"
    },
    "accelerator": "GPU"
  },
  "cells": [
    {
      "cell_type": "code",
      "metadata": {
        "id": "5Lm94myalKjQ"
      },
      "source": [
        "from tensorflow.keras.preprocessing.image import ImageDataGenerator"
      ],
      "execution_count": null,
      "outputs": []
    },
    {
      "cell_type": "code",
      "metadata": {
        "id": "pNLV_MhFlqJo",
        "colab": {
          "base_uri": "https://localhost:8080/",
          "height": 51
        },
        "outputId": "764eb688-5979-45a3-fc71-bad4162dcb0d"
      },
      "source": [
        "train_datagen = ImageDataGenerator(\n",
        "      rescale=1./255,\n",
        "      rotation_range=20,\n",
        "      width_shift_range=0.2,\n",
        "      height_shift_range=0.2,\n",
        "      horizontal_flip=True,\n",
        "      fill_mode='nearest'\n",
        ")\n",
        " \n",
        "validation_datagen = ImageDataGenerator(rescale=1./255)\n",
        " \n",
        "# Change the batchsize according to your system RAM\n",
        "train_batchsize = 16\n",
        "val_batchsize = 10\n",
        " \n",
        "train_generator = train_datagen.flow_from_directory(\n",
        "        '/content/drive/My Drive/SKIN_DISEASE_DATASET/train',\n",
        "        target_size=(224,224),\n",
        "        batch_size=train_batchsize,\n",
        "        class_mode='categorical')\n",
        " \n",
        "validation_generator = validation_datagen.flow_from_directory(\n",
        "        '/content/drive/My Drive/SKIN_DISEASE_DATASET/test',\n",
        "        target_size=(224,224),\n",
        "        batch_size=val_batchsize,\n",
        "        class_mode='categorical',\n",
        "        shuffle=True)"
      ],
      "execution_count": null,
      "outputs": [
        {
          "output_type": "stream",
          "text": [
            "Found 672 images belonging to 6 classes.\n",
            "Found 108 images belonging to 6 classes.\n"
          ],
          "name": "stdout"
        }
      ]
    },
    {
      "cell_type": "code",
      "metadata": {
        "id": "DHl-S0-qD3OE",
        "colab": {
          "base_uri": "https://localhost:8080/",
          "height": 71
        },
        "outputId": "c8147c7f-9093-4fb1-b007-f3efa405bff6"
      },
      "source": [
        "from tensorflow.keras.applications.xception import Xception       # change this\n",
        "# from tensorflow.keras.applications.inception_resnet_v2 import InceptionResNetV2\n",
        "# from tensorflow.keras.applications.nasnet import NASNetMobile\n",
        "from tensorflow.keras.applications.inception_v3 import InceptionV3\n",
        "xcep = Xception(weights='imagenet', include_top=False, input_shape=(224,224, 3)) "
      ],
      "execution_count": null,
      "outputs": [
        {
          "output_type": "stream",
          "text": [
            "Downloading data from https://storage.googleapis.com/tensorflow/keras-applications/xception/xception_weights_tf_dim_ordering_tf_kernels_notop.h5\n",
            "83689472/83683744 [==============================] - 1s 0us/step\n"
          ],
          "name": "stdout"
        }
      ]
    },
    {
      "cell_type": "code",
      "metadata": {
        "id": "eYZlLQ2zSc2Q",
        "colab": {
          "base_uri": "https://localhost:8080/",
          "height": 459
        },
        "outputId": "3be2e705-df53-4d89-e20d-9411d8b56f97"
      },
      "source": [
        "from tensorflow.keras import models\n",
        "from tensorflow.keras import layers\n",
        "from tensorflow.keras import optimizers\n",
        " \n",
        "# Create the model\n",
        "model1 = models.Sequential()\n",
        " \n",
        "model1.add(xcep)\n",
        "# Add new layers\n",
        "model1.add(layers.Flatten())\n",
        "model1.add(layers.Dense(1024, activation='relu'))\n",
        "model1.add(layers.BatchNormalization())\n",
        "model1.add(layers.Dropout(0.5))\n",
        "\n",
        "model1.add(layers.Dense(512, activation='relu'))\n",
        "model1.add(layers.BatchNormalization())\n",
        "model1.add(layers.Dropout(0.5))\n",
        "\n",
        "model1.add(layers.Dense(6, activation='softmax'))\n",
        "model1.summary()"
      ],
      "execution_count": null,
      "outputs": [
        {
          "output_type": "stream",
          "text": [
            "Model: \"sequential_1\"\n",
            "_________________________________________________________________\n",
            "Layer (type)                 Output Shape              Param #   \n",
            "=================================================================\n",
            "xception (Model)             (None, 7, 7, 2048)        20861480  \n",
            "_________________________________________________________________\n",
            "flatten_1 (Flatten)          (None, 100352)            0         \n",
            "_________________________________________________________________\n",
            "dense_3 (Dense)              (None, 1024)              102761472 \n",
            "_________________________________________________________________\n",
            "batch_normalization_6 (Batch (None, 1024)              4096      \n",
            "_________________________________________________________________\n",
            "dropout_2 (Dropout)          (None, 1024)              0         \n",
            "_________________________________________________________________\n",
            "dense_4 (Dense)              (None, 512)               524800    \n",
            "_________________________________________________________________\n",
            "batch_normalization_7 (Batch (None, 512)               2048      \n",
            "_________________________________________________________________\n",
            "dropout_3 (Dropout)          (None, 512)               0         \n",
            "_________________________________________________________________\n",
            "dense_5 (Dense)              (None, 6)                 3078      \n",
            "=================================================================\n",
            "Total params: 124,156,974\n",
            "Trainable params: 124,099,374\n",
            "Non-trainable params: 57,600\n",
            "_________________________________________________________________\n"
          ],
          "name": "stdout"
        }
      ]
    },
    {
      "cell_type": "code",
      "metadata": {
        "id": "dD0yg3VPSkhX",
        "colab": {
          "base_uri": "https://localhost:8080/",
          "height": 1000
        },
        "outputId": "3a3c05f2-76d7-4b8a-d64b-878f9ac15881"
      },
      "source": [
        "# NasNetMobile model   \n",
        "model1.compile(loss='categorical_crossentropy',\n",
        "              optimizer=optimizers.RMSprop(lr=1e-5),\n",
        "              metrics=['acc'])\n",
        "# Train the model\n",
        "history = model1.fit_generator(\n",
        "      train_generator,\n",
        "      steps_per_epoch=train_generator.samples/train_generator.batch_size ,\n",
        "      epochs=30,\n",
        "      validation_data=validation_generator,\n",
        "      validation_steps=validation_generator.samples/validation_generator.batch_size,\n",
        "      verbose=1)"
      ],
      "execution_count": null,
      "outputs": [
        {
          "output_type": "stream",
          "text": [
            "Epoch 1/30\n",
            "42/42 [==============================] - 25s 607ms/step - loss: 1.6725 - acc: 0.4554 - val_loss: 1.1628 - val_acc: 0.5833\n",
            "Epoch 2/30\n",
            "42/42 [==============================] - 25s 590ms/step - loss: 0.8557 - acc: 0.7083 - val_loss: 0.7855 - val_acc: 0.8241\n",
            "Epoch 3/30\n",
            "42/42 [==============================] - 25s 602ms/step - loss: 0.6558 - acc: 0.7857 - val_loss: 0.7463 - val_acc: 0.7130\n",
            "Epoch 4/30\n",
            "42/42 [==============================] - 26s 616ms/step - loss: 0.4622 - acc: 0.8482 - val_loss: 0.6424 - val_acc: 0.7870\n",
            "Epoch 5/30\n",
            "42/42 [==============================] - 26s 623ms/step - loss: 0.4199 - acc: 0.8452 - val_loss: 0.6077 - val_acc: 0.8241\n",
            "Epoch 6/30\n",
            "42/42 [==============================] - 26s 625ms/step - loss: 0.4481 - acc: 0.8705 - val_loss: 0.6835 - val_acc: 0.7870\n",
            "Epoch 7/30\n",
            "42/42 [==============================] - 26s 616ms/step - loss: 0.3630 - acc: 0.8824 - val_loss: 0.6256 - val_acc: 0.8056\n",
            "Epoch 8/30\n",
            "42/42 [==============================] - 26s 620ms/step - loss: 0.3453 - acc: 0.8943 - val_loss: 0.6296 - val_acc: 0.7963\n",
            "Epoch 9/30\n",
            "42/42 [==============================] - 26s 619ms/step - loss: 0.3482 - acc: 0.8899 - val_loss: 0.5629 - val_acc: 0.8333\n",
            "Epoch 10/30\n",
            "42/42 [==============================] - 26s 614ms/step - loss: 0.2654 - acc: 0.9107 - val_loss: 0.7226 - val_acc: 0.8241\n",
            "Epoch 11/30\n",
            "42/42 [==============================] - 26s 609ms/step - loss: 0.2751 - acc: 0.9107 - val_loss: 0.6298 - val_acc: 0.8333\n",
            "Epoch 12/30\n",
            "42/42 [==============================] - 26s 607ms/step - loss: 0.2516 - acc: 0.9196 - val_loss: 0.5928 - val_acc: 0.8241\n",
            "Epoch 13/30\n",
            "42/42 [==============================] - 26s 610ms/step - loss: 0.2888 - acc: 0.9122 - val_loss: 0.5726 - val_acc: 0.8056\n",
            "Epoch 14/30\n",
            "42/42 [==============================] - 26s 616ms/step - loss: 0.2619 - acc: 0.9107 - val_loss: 0.4924 - val_acc: 0.8241\n",
            "Epoch 15/30\n",
            "42/42 [==============================] - 26s 615ms/step - loss: 0.2070 - acc: 0.9360 - val_loss: 0.5318 - val_acc: 0.8519\n",
            "Epoch 16/30\n",
            "42/42 [==============================] - 26s 621ms/step - loss: 0.1781 - acc: 0.9405 - val_loss: 0.6423 - val_acc: 0.8241\n",
            "Epoch 17/30\n",
            "42/42 [==============================] - 26s 616ms/step - loss: 0.1525 - acc: 0.9494 - val_loss: 0.5699 - val_acc: 0.8148\n",
            "Epoch 18/30\n",
            "42/42 [==============================] - 26s 608ms/step - loss: 0.1695 - acc: 0.9345 - val_loss: 0.5222 - val_acc: 0.8426\n",
            "Epoch 19/30\n",
            "42/42 [==============================] - 26s 610ms/step - loss: 0.1656 - acc: 0.9479 - val_loss: 0.5769 - val_acc: 0.8333\n",
            "Epoch 20/30\n",
            "42/42 [==============================] - 25s 596ms/step - loss: 0.1794 - acc: 0.9360 - val_loss: 0.4158 - val_acc: 0.8611\n",
            "Epoch 21/30\n",
            "42/42 [==============================] - 26s 613ms/step - loss: 0.2221 - acc: 0.9375 - val_loss: 0.5840 - val_acc: 0.8241\n",
            "Epoch 22/30\n",
            "42/42 [==============================] - 25s 603ms/step - loss: 0.1778 - acc: 0.9464 - val_loss: 0.6579 - val_acc: 0.8148\n",
            "Epoch 23/30\n",
            "42/42 [==============================] - 25s 597ms/step - loss: 0.1884 - acc: 0.9375 - val_loss: 0.4727 - val_acc: 0.8241\n",
            "Epoch 24/30\n",
            "42/42 [==============================] - 25s 603ms/step - loss: 0.1290 - acc: 0.9583 - val_loss: 0.5806 - val_acc: 0.8519\n",
            "Epoch 25/30\n",
            "42/42 [==============================] - 26s 609ms/step - loss: 0.1187 - acc: 0.9613 - val_loss: 0.6296 - val_acc: 0.8056\n",
            "Epoch 26/30\n",
            "42/42 [==============================] - 25s 601ms/step - loss: 0.1660 - acc: 0.9420 - val_loss: 0.4539 - val_acc: 0.8889\n",
            "Epoch 27/30\n",
            "42/42 [==============================] - 26s 611ms/step - loss: 0.1854 - acc: 0.9435 - val_loss: 0.6335 - val_acc: 0.8426\n",
            "Epoch 28/30\n",
            "42/42 [==============================] - 25s 600ms/step - loss: 0.1711 - acc: 0.9539 - val_loss: 0.5546 - val_acc: 0.8333\n",
            "Epoch 29/30\n",
            "42/42 [==============================] - 26s 611ms/step - loss: 0.1271 - acc: 0.9628 - val_loss: 0.5083 - val_acc: 0.8426\n",
            "Epoch 30/30\n",
            "42/42 [==============================] - 26s 615ms/step - loss: 0.1258 - acc: 0.9628 - val_loss: 0.5178 - val_acc: 0.8519\n"
          ],
          "name": "stdout"
        }
      ]
    },
    {
      "cell_type": "code",
      "metadata": {
        "id": "HJFZ33-ftUxx",
        "colab": {
          "base_uri": "https://localhost:8080/",
          "height": 573
        },
        "outputId": "b6fab9cc-a21d-4758-a69d-fcdf24182566"
      },
      "source": [
        "import matplotlib.pyplot as plt\n",
        "\n",
        "# training and accuracy value\n",
        "plt.plot(history.history['acc'])\n",
        "plt.plot(history.history['val_acc'])\n",
        "plt.title('Model accuracy')\n",
        "plt.xlabel('Epoch')\n",
        "plt.ylabel('Accuracy')\n",
        "plt.legend(['train','val'],loc='upper left')\n",
        "plt.show()\n",
        "\n",
        "# training and loss value\n",
        "plt.plot(history.history['loss'])\n",
        "plt.plot(history.history['val_loss'])\n",
        "plt.title('Model loss')\n",
        "plt.xlabel('Epoch')\n",
        "plt.ylabel('loss')\n",
        "plt.legend(['train','val'],loc='upper left')\n",
        "plt.show()"
      ],
      "execution_count": null,
      "outputs": [
        {
          "output_type": "display_data",
          "data": {
            "image/png": "[encoded data removed]",
            "text/plain": [
              "<Figure size 432x288 with 1 Axes>"
            ]
          },
          "metadata": {
            "tags": [],
            "needs_background": "light"
          }
        },
        {
          "output_type": "display_data",
          "data": {
            "image/png": "[encoded data removed]",
            "text/plain": [
              "<Figure size 432x288 with 1 Axes>"
            ]
          },
          "metadata": {
            "tags": [],
            "needs_background": "light"
          }
        }
      ]
    },
    {
      "cell_type": "code",
      "metadata": {
        "id": "W9vdNh0pXggP",
        "colab": {
          "base_uri": "https://localhost:8080/",
          "height": 34
        },
        "outputId": "0fd83b87-b6f7-4491-cc80-87ddb928117d"
      },
      "source": [
        "tf.__version__"
      ],
      "execution_count": null,
      "outputs": [
        {
          "output_type": "execute_result",
          "data": {
            "text/plain": [
              "'2.0.0'"
            ]
          },
          "metadata": {
            "tags": []
          },
          "execution_count": 2
        }
      ]
    },
    {
      "cell_type": "code",
      "metadata": {
        "id": "EYopLXDaXjO6"
      },
      "source": [
        ""
      ],
      "execution_count": null,
      "outputs": []
    }
  ]
}